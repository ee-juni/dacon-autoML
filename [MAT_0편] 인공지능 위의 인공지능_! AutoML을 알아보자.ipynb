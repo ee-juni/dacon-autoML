{
  "nbformat": 4,
  "nbformat_minor": 0,
  "metadata": {
    "colab": {
      "name": "Untitled5.ipynb",
      "provenance": []
    },
    "kernelspec": {
      "name": "python3",
      "display_name": "Python 3"
    },
    "language_info": {
      "name": "python"
    }
  },
  "cells": [
    {
      "cell_type": "markdown",
      "source": [
        "MAT(Meta-AI Team)의 컨텐츠와 팀원분들을 소개합니다!\n",
        "\n",
        "글 작성과 함께 링크해서 아래 목차는 업데이트될 예정입니다. 이 글을 많이많이 활용해주세요."
      ],
      "metadata": {
        "id": "WluljjI4G6a7"
      }
    },
    {
      "cell_type": "markdown",
      "source": [
        "---"
      ],
      "metadata": {
        "id": "w4mnegnbG5Mm"
      }
    },
    {
      "cell_type": "markdown",
      "source": [
        "## Contents\n",
        "\n",
        "### AutoML은 무엇인가?\n",
        "\n",
        "- AutoML이란?\n",
        "    - 개념\n",
        "    - AutoML의 구성요소: Search strategies, Performance estimation strategies\n",
        "- HPO(하이퍼 파라미터 최적화)란?\n",
        "- NAS(신경망 구조 탐색)란?\n",
        "\n",
        "### AutoML 조금 더 자세히 알아보자!\n",
        "\n",
        "- HPO(하이퍼 파라미터 최적화)\n",
        "    - Grid Search의 개념과 구현\n",
        "        - 직접 구현하기\n",
        "        - 라이브러리 이용하기: GridSearchCV (sklearn)\n",
        "    - Random Search의 개념과 구현\n",
        "        - 직접 구현하기\n",
        "        - 라이브러리 이용하기: RandomizedSearchCV (sklearn)\n",
        "    - Bayesian Search의 개념과 구현\n",
        "        - 직접 구현하기\n",
        "        - 라이브러리 이용하기: Hyperopt\n",
        "    - 연구동향 및 연구 별 참고자료 소개\n",
        "- NAS(신경망 구조 탐색)\n",
        "    - 진화 알고리즘 기반 탐색 방법\n",
        "    - 강화학습 기반 탐색 방법\n",
        "    - 경사하강법 기반 탐색 방법\n",
        "    - 연구동향 및 연구 별 참고자료 소개\n",
        "\n",
        "### AutoML 라이브러리를 활용해보기\n",
        "\n",
        "- pycaret 편\n",
        "- autosklearn 편\n",
        "- autokeras 편\n",
        "- FLAML 편\n"
      ],
      "metadata": {
        "id": "1OfV3D5UDRdM"
      }
    },
    {
      "cell_type": "markdown",
      "source": [
        "---"
      ],
      "metadata": {
        "id": "SzqICGI-G2kO"
      }
    },
    {
      "cell_type": "markdown",
      "source": [
        "다음은 저와 함께 MAT의 컨텐츠를 만들어주시는 분들입니다! 모두 열정과 능력 모두 출중하신 분들이라 여러분들께 좋은 글을 전달드릴 수 있을 것이라 장담합니다 :)"
      ],
      "metadata": {
        "id": "LmBw19V8F620"
      }
    },
    {
      "cell_type": "markdown",
      "source": [
        "## 팀원 소개\n",
        "\n",
        "- [mihosang](https://dacon.io/myprofile/63929/home)님\n",
        "- [woodi_](https://dacon.io/myprofile/315471/home)님\n",
        "- [hyeon_west](https://dacon.io/myprofile/407317/home)님\n",
        "- [고구마구](https://dacon.io/myprofile/424584/home)님"
      ],
      "metadata": {
        "id": "4CMCePfmDRJb"
      }
    }
  ]
}